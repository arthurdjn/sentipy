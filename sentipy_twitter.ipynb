{
 "cells": [
  {
   "cell_type": "markdown",
   "metadata": {},
   "source": [
    "# SentiPy Tutorial\n",
    "\n",
    "### *An Application for Twitter Sentiment Analytics*\n",
    "\n",
    "**SentiPy** provides models to analyze user's sentiments from tweets. The models are based on **Word Embeddings** and **Convolutional Neural Network** (CNN)."
   ]
  },
  {
   "cell_type": "code",
   "execution_count": 1,
   "metadata": {},
   "outputs": [],
   "source": [
    "import matplotlib.pyplot as plt\n",
    "\n",
    "# This is a bit of magic to make matplotlib figures appear inline in the notebook\n",
    "# rather than in a new window.\n",
    "%matplotlib inline\n",
    "plt.rcParams['figure.figsize'] = (10.0, 8.0) # set default size of plots\n",
    "plt.rcParams['image.interpolation'] = 'nearest'\n",
    "plt.style.use('seaborn-darkgrid')\n",
    "\n",
    "# Some more magic so that the notebook will reload external python modules;\n",
    "# see http://stackoverflow.com/questions/1907993/autoreload-of-modules-in-ipython\n",
    "%load_ext autoreload\n",
    "%autoreload 2"
   ]
  },
  {
   "cell_type": "markdown",
   "metadata": {},
   "source": [
    "# 2. Twitter Analytics"
   ]
  },
  {
   "cell_type": "code",
   "execution_count": 2,
   "metadata": {},
   "outputs": [],
   "source": [
    "import tweepy\n",
    "from sentipy.io import connect\n",
    "\n",
    "auth = connect(\"login.ini\")\n",
    "api = tweepy.API(auth)"
   ]
  },
  {
   "cell_type": "markdown",
   "metadata": {},
   "source": [
    "You can visualize your feed with:"
   ]
  },
  {
   "cell_type": "code",
   "execution_count": 3,
   "metadata": {},
   "outputs": [
    {
     "name": "stdout",
     "output_type": "stream",
     "text": [
      "#COVID19 impact on #education so far:\n",
      "\n",
      "⛔️363 million students out of school worldwide.\n",
      "\n",
      "➡️15 countries have ordered… https://t.co/rP6psNIXU3\n",
      "...or students from other parts of the US who cannot afford to make it home.\n",
      "Dear Parents of college students: A lot of campuses are closing with #coronavirus and most will be closed in 2-3 we… https://t.co/bYRj57FHm5\n",
      "THIS HAS NOT BEEN THOUGHT THROUGH\n",
      "A lot of students are from countries that have massive outbreaks already. How will they be able to afford expensive… https://t.co/iGrBNs6Edq\n",
      "🔴BREAKING!\n",
      "\n",
      "One in five students around the world are out of school due to #COVID19.\n",
      "\n",
      ".@UNESCO mobilizes education… https://t.co/KjgRWHnFa2\n",
      "RT @futuresfestival: Un escape game à  la découverte du patrimoine ! Une expérience proposée par @ArtGraphPat spécialiste du numérique et l…\n",
      "RT @CanteIshta: A #Chauvigny (86), un relevé 3D du château d'Harcourt est lancée, en vue de l'étude de ce monument des XIIe-XVe s., par un…\n",
      "Dans la famille #Surface, @pressecitron demande #SurfacePro7 !\n",
      "Découvrez-en toutes les facettes :\n",
      "➡Design haut de g… https://t.co/1PvQzrYuFT\n",
      "In this video, Quixel's Josh Powers will show you how to create stylized assets from the Megascans library in minut… https://t.co/AqLzLKYEro\n",
      "RT @RotondeSciences: FOUILLE FARFOUILLE SE TERMINE\n",
      "Et oui, dernières séances de cette expo-ateliers pour les tout-petits ! Maintenant de no…\n",
      "#madewithmixer: Artwork by Jack McKelvie. 👏\n",
      "\n",
      "https://t.co/hyIaHtfUKI\n",
      "\n",
      "With its 2D and 3D Texturing features, Mixer… https://t.co/OuaVX0AnbV\n",
      "Water you looking at? 💦\n",
      "\n",
      "https://t.co/iK1eRjgSq4\n",
      "\n",
      "More inbound, with many others being added every single day.… https://t.co/uMbobcGKn0\n",
      "That's how you do stylized. Scene by Maxime Delcambre. 👀\n",
      "\n",
      "https://t.co/9EpP1N7RC9\n",
      "\n",
      "#quixel #megascans #blender… https://t.co/Hrf8j7GKSg\n",
      "📣 Nous sommes fiers de nous associer à @RennesSB pour accélérer et amplifier le déploiement de notre solution… https://t.co/XXbhk0JSjr\n",
      "\"Starting an online meeting with #Education ministers &amp; representatives from 70 countries to share good practices a… https://t.co/ILuGLaKM7S\n"
     ]
    }
   ],
   "source": [
    "public_tweets = api.home_timeline()\n",
    "for tweet in public_tweets:\n",
    "    print(tweet.text)"
   ]
  },
  {
   "cell_type": "markdown",
   "metadata": {},
   "source": [
    "### 2.2. Search for Hashtag"
   ]
  },
  {
   "cell_type": "code",
   "execution_count": 8,
   "metadata": {},
   "outputs": [],
   "source": [
    "# Define the search term and the date_since date as variables\n",
    "search_words = \"#airbus\" + \" -filter:retweets\" # Ignore the ReTweet\n",
    "date_since = \"2020-01-01\"\n",
    "num_tweets = 100"
   ]
  },
  {
   "cell_type": "code",
   "execution_count": 9,
   "metadata": {},
   "outputs": [
    {
     "data": {
      "text/html": [
       "<div>\n",
       "<style scoped>\n",
       "    .dataframe tbody tr th:only-of-type {\n",
       "        vertical-align: middle;\n",
       "    }\n",
       "\n",
       "    .dataframe tbody tr th {\n",
       "        vertical-align: top;\n",
       "    }\n",
       "\n",
       "    .dataframe thead th {\n",
       "        text-align: right;\n",
       "    }\n",
       "</style>\n",
       "<table border=\"1\" class=\"dataframe\">\n",
       "  <thead>\n",
       "    <tr style=\"text-align: right;\">\n",
       "      <th></th>\n",
       "      <th>user</th>\n",
       "      <th>date</th>\n",
       "      <th>location</th>\n",
       "      <th>lang</th>\n",
       "      <th>text</th>\n",
       "    </tr>\n",
       "  </thead>\n",
       "  <tbody>\n",
       "    <tr>\n",
       "      <th>0</th>\n",
       "      <td>JaccoJackson</td>\n",
       "      <td>2020-03-10 15:52:30</td>\n",
       "      <td>Lagos, nigeria</td>\n",
       "      <td>en</td>\n",
       "      <td>Stay home, stock up on medicines and food, DON...</td>\n",
       "    </tr>\n",
       "    <tr>\n",
       "      <th>1</th>\n",
       "      <td>deluxeVIPdining</td>\n",
       "      <td>2020-03-10 15:40:45</td>\n",
       "      <td></td>\n",
       "      <td>en</td>\n",
       "      <td>FBO Sponsor Lunch at Signature Luton ✈✈ \\n\\n#N...</td>\n",
       "    </tr>\n",
       "    <tr>\n",
       "      <th>2</th>\n",
       "      <td>czech_trader_</td>\n",
       "      <td>2020-03-10 15:34:05</td>\n",
       "      <td>Hlavní město Praha</td>\n",
       "      <td>en</td>\n",
       "      <td>$BA $AIR #airbus - scalped https://t.co/T7zSQ8...</td>\n",
       "    </tr>\n",
       "    <tr>\n",
       "      <th>3</th>\n",
       "      <td>78tiger</td>\n",
       "      <td>2020-03-10 15:26:20</td>\n",
       "      <td>Los Angeles</td>\n",
       "      <td>en</td>\n",
       "      <td>Last Of The Giants: Final #Airbus #A380 Convoy...</td>\n",
       "    </tr>\n",
       "    <tr>\n",
       "      <th>4</th>\n",
       "      <td>EDDC_Radar</td>\n",
       "      <td>2020-03-10 14:27:59</td>\n",
       "      <td>EDDC</td>\n",
       "      <td>en</td>\n",
       "      <td>(#3C152F) as flight #AIB279A at 31075 ft headi...</td>\n",
       "    </tr>\n",
       "  </tbody>\n",
       "</table>\n",
       "</div>"
      ],
      "text/plain": [
       "              user                date            location lang  \\\n",
       "0     JaccoJackson 2020-03-10 15:52:30      Lagos, nigeria   en   \n",
       "1  deluxeVIPdining 2020-03-10 15:40:45                       en   \n",
       "2    czech_trader_ 2020-03-10 15:34:05  Hlavní město Praha   en   \n",
       "3          78tiger 2020-03-10 15:26:20         Los Angeles   en   \n",
       "4       EDDC_Radar 2020-03-10 14:27:59                EDDC   en   \n",
       "\n",
       "                                                text  \n",
       "0  Stay home, stock up on medicines and food, DON...  \n",
       "1  FBO Sponsor Lunch at Signature Luton ✈✈ \\n\\n#N...  \n",
       "2  $BA $AIR #airbus - scalped https://t.co/T7zSQ8...  \n",
       "3  Last Of The Giants: Final #Airbus #A380 Convoy...  \n",
       "4  (#3C152F) as flight #AIB279A at 31075 ft headi...  "
      ]
     },
     "execution_count": 9,
     "metadata": {},
     "output_type": "execute_result"
    }
   ],
   "source": [
    "import pandas as pd\n",
    "\n",
    "# Collect tweets\n",
    "data = {\"user\": [],\n",
    "        \"date\": [],\n",
    "        \"location\": [],\n",
    "        \"lang\": [],\n",
    "        \"text\": []}\n",
    "\n",
    "# Get tweets\n",
    "tweets = tweepy.Cursor(api.search,\n",
    "              q=search_words,\n",
    "                       lang=\"en\",\n",
    "              since=date_since).items(num_tweets)\n",
    "\n",
    "# Conserve only relevant informations\n",
    "for (i, tweet) in enumerate(tweets):\n",
    "    data[\"user\"].append(tweet.user.screen_name)\n",
    "    data[\"location\"].append(tweet.user.location)\n",
    "    data[\"date\"].append(tweet.created_at)\n",
    "    data[\"text\"].append(tweet.text)\n",
    "    data[\"lang\"].append(tweet.lang)\n",
    "    # print(\"Tweet n°{}: {}\\n\".format(i+1, tweet.text))\n",
    "    \n",
    "# Convert in a DataFrame\n",
    "df = pd.DataFrame(data)\n",
    "df.head()"
   ]
  },
  {
   "cell_type": "code",
   "execution_count": 10,
   "metadata": {},
   "outputs": [
    {
     "name": "stdout",
     "output_type": "stream",
     "text": [
      "100\n"
     ]
    }
   ],
   "source": [
    "print(len(df[\"text\"]))"
   ]
  },
  {
   "cell_type": "markdown",
   "metadata": {},
   "source": [
    "The tweets have a lot of abreviations that may influence the model. Let's strip all of them and add tokens instead:"
   ]
  },
  {
   "cell_type": "code",
   "execution_count": 11,
   "metadata": {},
   "outputs": [
    {
     "data": {
      "text/html": [
       "<div>\n",
       "<style scoped>\n",
       "    .dataframe tbody tr th:only-of-type {\n",
       "        vertical-align: middle;\n",
       "    }\n",
       "\n",
       "    .dataframe tbody tr th {\n",
       "        vertical-align: top;\n",
       "    }\n",
       "\n",
       "    .dataframe thead th {\n",
       "        text-align: right;\n",
       "    }\n",
       "</style>\n",
       "<table border=\"1\" class=\"dataframe\">\n",
       "  <thead>\n",
       "    <tr style=\"text-align: right;\">\n",
       "      <th></th>\n",
       "      <th>user</th>\n",
       "      <th>date</th>\n",
       "      <th>location</th>\n",
       "      <th>lang</th>\n",
       "      <th>text</th>\n",
       "    </tr>\n",
       "  </thead>\n",
       "  <tbody>\n",
       "    <tr>\n",
       "      <th>0</th>\n",
       "      <td>JaccoJackson</td>\n",
       "      <td>2020-03-10 15:52:30</td>\n",
       "      <td>Lagos, nigeria</td>\n",
       "      <td>en</td>\n",
       "      <td>[stay, home, ,, stock, up, on, medicines, and,...</td>\n",
       "    </tr>\n",
       "    <tr>\n",
       "      <th>1</th>\n",
       "      <td>deluxeVIPdining</td>\n",
       "      <td>2020-03-10 15:40:45</td>\n",
       "      <td></td>\n",
       "      <td>en</td>\n",
       "      <td>[fbo, sponsor, lunch, at, signature, luton, ✈,...</td>\n",
       "    </tr>\n",
       "    <tr>\n",
       "      <th>2</th>\n",
       "      <td>czech_trader_</td>\n",
       "      <td>2020-03-10 15:34:05</td>\n",
       "      <td>Hlavní město Praha</td>\n",
       "      <td>en</td>\n",
       "      <td>[$, ba, $, air, &lt;hashtag&gt;, airbus, -, scalped,...</td>\n",
       "    </tr>\n",
       "    <tr>\n",
       "      <th>3</th>\n",
       "      <td>78tiger</td>\n",
       "      <td>2020-03-10 15:26:20</td>\n",
       "      <td>Los Angeles</td>\n",
       "      <td>en</td>\n",
       "      <td>[last, of, the, giants, :, final, &lt;hashtag&gt;, a...</td>\n",
       "    </tr>\n",
       "    <tr>\n",
       "      <th>4</th>\n",
       "      <td>EDDC_Radar</td>\n",
       "      <td>2020-03-10 14:27:59</td>\n",
       "      <td>EDDC</td>\n",
       "      <td>en</td>\n",
       "      <td>[(, &lt;hashtag&gt;, 3c152f, ), as, flight, &lt;hashtag...</td>\n",
       "    </tr>\n",
       "  </tbody>\n",
       "</table>\n",
       "</div>"
      ],
      "text/plain": [
       "              user                date            location lang  \\\n",
       "0     JaccoJackson 2020-03-10 15:52:30      Lagos, nigeria   en   \n",
       "1  deluxeVIPdining 2020-03-10 15:40:45                       en   \n",
       "2    czech_trader_ 2020-03-10 15:34:05  Hlavní město Praha   en   \n",
       "3          78tiger 2020-03-10 15:26:20         Los Angeles   en   \n",
       "4       EDDC_Radar 2020-03-10 14:27:59                EDDC   en   \n",
       "\n",
       "                                                text  \n",
       "0  [stay, home, ,, stock, up, on, medicines, and,...  \n",
       "1  [fbo, sponsor, lunch, at, signature, luton, ✈,...  \n",
       "2  [$, ba, $, air, <hashtag>, airbus, -, scalped,...  \n",
       "3  [last, of, the, giants, :, final, <hashtag>, a...  \n",
       "4  [(, <hashtag>, 3c152f, ), as, flight, <hashtag...  "
      ]
     },
     "execution_count": 11,
     "metadata": {},
     "output_type": "execute_result"
    }
   ],
   "source": [
    "from sentipy.tokenizer import tokenizer_tweets\n",
    "\n",
    "df[\"text\"] = [tokenizer_tweets(text) for text in df[\"text\"]]\n",
    "df.head()"
   ]
  },
  {
   "cell_type": "code",
   "execution_count": 15,
   "metadata": {},
   "outputs": [
    {
     "name": "stdout",
     "output_type": "stream",
     "text": [
      "['(', '<hashtag>', '3c152f', ')', 'as', 'flight', '<hashtag>', 'aib279a', 'at', '31075', 'ft', 'heading', 'southwest', 'bound', 'over', 'rehfelde', ',', 'brandenburg', '(', 'germany', ')', '.', 'at', ':', '…', '<url>']\n"
     ]
    }
   ],
   "source": [
    "print(df[\"text\"][4])"
   ]
  },
  {
   "cell_type": "code",
   "execution_count": null,
   "metadata": {},
   "outputs": [],
   "source": []
  },
  {
   "cell_type": "code",
   "execution_count": null,
   "metadata": {},
   "outputs": [],
   "source": []
  }
 ],
 "metadata": {
  "kernelspec": {
   "display_name": "Python 3",
   "language": "python",
   "name": "python3"
  },
  "language_info": {
   "codemirror_mode": {
    "name": "ipython",
    "version": 3
   },
   "file_extension": ".py",
   "mimetype": "text/x-python",
   "name": "python",
   "nbconvert_exporter": "python",
   "pygments_lexer": "ipython3",
   "version": "3.7.4"
  }
 },
 "nbformat": 4,
 "nbformat_minor": 4
}
